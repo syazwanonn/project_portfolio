{
 "cells": [
  {
   "cell_type": "markdown",
   "id": "anV4Y8wUI1ty",
   "metadata": {
    "id": "anV4Y8wUI1ty"
   },
   "source": [
    "# **A) RETRIEVING DEPENDENCIES**\n",
    "    #importing dependencies\n",
    "    #reading csv file\n",
    "    #separating dependent and independent variables\n",
    "    #splitting the dataset into the Training set and Test set\n",
    "    #indicating the shape of training and testing data"
   ]
  },
  {
   "cell_type": "code",
   "execution_count": null,
   "id": "2b307002",
   "metadata": {
    "colab": {
     "base_uri": "https://localhost:8080/"
    },
    "id": "2b307002",
    "outputId": "a0095ef3-3772-451b-ef74-7fcdaf01ef57"
   },
   "outputs": [
    {
     "name": "stdout",
     "output_type": "stream",
     "text": [
      "Requirement already satisfied: dalex in /usr/local/lib/python3.7/dist-packages (1.4.1)\n",
      "Requirement already satisfied: numpy>=1.18.4 in /usr/local/lib/python3.7/dist-packages (from dalex) (1.19.5)\n",
      "Requirement already satisfied: plotly>=4.12.0 in /usr/local/lib/python3.7/dist-packages (from dalex) (5.5.0)\n",
      "Requirement already satisfied: setuptools in /usr/local/lib/python3.7/dist-packages (from dalex) (57.4.0)\n",
      "Requirement already satisfied: scipy>=1.5.4 in /usr/local/lib/python3.7/dist-packages (from dalex) (1.7.3)\n",
      "Requirement already satisfied: tqdm>=4.48.2 in /usr/local/lib/python3.7/dist-packages (from dalex) (4.62.3)\n",
      "Requirement already satisfied: pandas>=1.1.2 in /usr/local/lib/python3.7/dist-packages (from dalex) (1.1.5)\n",
      "Requirement already satisfied: python-dateutil>=2.7.3 in /usr/local/lib/python3.7/dist-packages (from pandas>=1.1.2->dalex) (2.8.2)\n",
      "Requirement already satisfied: pytz>=2017.2 in /usr/local/lib/python3.7/dist-packages (from pandas>=1.1.2->dalex) (2018.9)\n",
      "Requirement already satisfied: six in /usr/local/lib/python3.7/dist-packages (from plotly>=4.12.0->dalex) (1.15.0)\n",
      "Requirement already satisfied: tenacity>=6.2.0 in /usr/local/lib/python3.7/dist-packages (from plotly>=4.12.0->dalex) (8.0.1)\n"
     ]
    }
   ],
   "source": [
    "#import dependencies\n",
    "\n",
    "import pandas as pd\n",
    "import numpy as np\n",
    "import seaborn as sns\n",
    "import matplotlib.pyplot as plt\n",
    "import scipy.stats as stats\n",
    "\n",
    "!pip install dalex\n",
    "import dalex as dx"
   ]
  },
  {
   "cell_type": "code",
   "execution_count": null,
   "id": "150de066",
   "metadata": {
    "colab": {
     "base_uri": "https://localhost:8080/"
    },
    "id": "150de066",
    "outputId": "ec01633f-64c4-485a-82a4-bd8936021875"
   },
   "outputs": [
    {
     "data": {
      "text/html": [
       "\n",
       "  <div id=\"df-833a2eba-84fa-42cc-b024-ca16f92cf2f1\">\n",
       "    <div class=\"colab-df-container\">\n",
       "      <div>\n",
       "<style scoped>\n",
       "    .dataframe tbody tr th:only-of-type {\n",
       "        vertical-align: middle;\n",
       "    }\n",
       "\n",
       "    .dataframe tbody tr th {\n",
       "        vertical-align: top;\n",
       "    }\n",
       "\n",
       "    .dataframe thead th {\n",
       "        text-align: right;\n",
       "    }\n",
       "</style>\n",
       "<table border=\"1\" class=\"dataframe\">\n",
       "  <thead>\n",
       "    <tr style=\"text-align: right;\">\n",
       "      <th></th>\n",
       "      <th>att0</th>\n",
       "      <th>timestamp_</th>\n",
       "      <th>task_index</th>\n",
       "      <th>machine_id</th>\n",
       "      <th>priority</th>\n",
       "      <th>cpu_request</th>\n",
       "      <th>memory_request</th>\n",
       "      <th>disk_space_request</th>\n",
       "      <th>different_machine_restriction</th>\n",
       "      <th>cpu_rate</th>\n",
       "      <th>canonical_memory_usage</th>\n",
       "      <th>disk_i_o_time</th>\n",
       "      <th>local_disk_space_usage</th>\n",
       "      <th>maximum_cpu_rate</th>\n",
       "      <th>maximum_disk_i_o_time</th>\n",
       "      <th>cycles_per_instruction</th>\n",
       "      <th>event_type</th>\n",
       "    </tr>\n",
       "  </thead>\n",
       "  <tbody>\n",
       "    <tr>\n",
       "      <th>0</th>\n",
       "      <td>0.571564</td>\n",
       "      <td>0.323034</td>\n",
       "      <td>0.173791</td>\n",
       "      <td>0.120373</td>\n",
       "      <td>0.100000</td>\n",
       "      <td>0.454545</td>\n",
       "      <td>0.447118</td>\n",
       "      <td>0.212050</td>\n",
       "      <td>0.0</td>\n",
       "      <td>0.120327</td>\n",
       "      <td>0.113557</td>\n",
       "      <td>0.092867</td>\n",
       "      <td>0.044446</td>\n",
       "      <td>0.180972</td>\n",
       "      <td>0.180730</td>\n",
       "      <td>1.000000</td>\n",
       "      <td>0.0</td>\n",
       "    </tr>\n",
       "    <tr>\n",
       "      <th>1</th>\n",
       "      <td>0.571614</td>\n",
       "      <td>0.323118</td>\n",
       "      <td>0.043648</td>\n",
       "      <td>0.098205</td>\n",
       "      <td>0.000000</td>\n",
       "      <td>0.045440</td>\n",
       "      <td>0.058128</td>\n",
       "      <td>0.425202</td>\n",
       "      <td>0.0</td>\n",
       "      <td>0.023178</td>\n",
       "      <td>0.021797</td>\n",
       "      <td>0.073094</td>\n",
       "      <td>0.000000</td>\n",
       "      <td>0.122182</td>\n",
       "      <td>0.566249</td>\n",
       "      <td>0.415552</td>\n",
       "      <td>1.0</td>\n",
       "    </tr>\n",
       "    <tr>\n",
       "      <th>2</th>\n",
       "      <td>0.571663</td>\n",
       "      <td>0.306648</td>\n",
       "      <td>0.042447</td>\n",
       "      <td>0.000355</td>\n",
       "      <td>0.900000</td>\n",
       "      <td>0.499855</td>\n",
       "      <td>1.000000</td>\n",
       "      <td>0.064044</td>\n",
       "      <td>0.0</td>\n",
       "      <td>0.064687</td>\n",
       "      <td>0.031344</td>\n",
       "      <td>1.000000</td>\n",
       "      <td>0.133333</td>\n",
       "      <td>0.112937</td>\n",
       "      <td>0.629141</td>\n",
       "      <td>0.091293</td>\n",
       "      <td>0.0</td>\n",
       "    </tr>\n",
       "    <tr>\n",
       "      <th>3</th>\n",
       "      <td>0.571763</td>\n",
       "      <td>0.306876</td>\n",
       "      <td>0.163380</td>\n",
       "      <td>0.000253</td>\n",
       "      <td>0.000000</td>\n",
       "      <td>0.363564</td>\n",
       "      <td>0.671105</td>\n",
       "      <td>0.085051</td>\n",
       "      <td>0.0</td>\n",
       "      <td>1.000000</td>\n",
       "      <td>1.000000</td>\n",
       "      <td>0.318697</td>\n",
       "      <td>0.400000</td>\n",
       "      <td>1.000000</td>\n",
       "      <td>0.633169</td>\n",
       "      <td>0.052683</td>\n",
       "      <td>0.0</td>\n",
       "    </tr>\n",
       "    <tr>\n",
       "      <th>4</th>\n",
       "      <td>0.571813</td>\n",
       "      <td>0.306900</td>\n",
       "      <td>0.147362</td>\n",
       "      <td>0.058062</td>\n",
       "      <td>0.000000</td>\n",
       "      <td>0.090909</td>\n",
       "      <td>0.109196</td>\n",
       "      <td>0.445240</td>\n",
       "      <td>0.0</td>\n",
       "      <td>0.004505</td>\n",
       "      <td>0.092784</td>\n",
       "      <td>0.069476</td>\n",
       "      <td>0.000000</td>\n",
       "      <td>0.038499</td>\n",
       "      <td>0.389436</td>\n",
       "      <td>0.591828</td>\n",
       "      <td>0.0</td>\n",
       "    </tr>\n",
       "    <tr>\n",
       "      <th>...</th>\n",
       "      <td>...</td>\n",
       "      <td>...</td>\n",
       "      <td>...</td>\n",
       "      <td>...</td>\n",
       "      <td>...</td>\n",
       "      <td>...</td>\n",
       "      <td>...</td>\n",
       "      <td>...</td>\n",
       "      <td>...</td>\n",
       "      <td>...</td>\n",
       "      <td>...</td>\n",
       "      <td>...</td>\n",
       "      <td>...</td>\n",
       "      <td>...</td>\n",
       "      <td>...</td>\n",
       "      <td>...</td>\n",
       "      <td>...</td>\n",
       "    </tr>\n",
       "    <tr>\n",
       "      <th>12371</th>\n",
       "      <td>0.916029</td>\n",
       "      <td>0.779580</td>\n",
       "      <td>0.116240</td>\n",
       "      <td>0.000307</td>\n",
       "      <td>0.000000</td>\n",
       "      <td>0.454545</td>\n",
       "      <td>0.131075</td>\n",
       "      <td>0.020996</td>\n",
       "      <td>0.0</td>\n",
       "      <td>0.009223</td>\n",
       "      <td>0.017132</td>\n",
       "      <td>0.060970</td>\n",
       "      <td>0.000000</td>\n",
       "      <td>0.045901</td>\n",
       "      <td>0.071137</td>\n",
       "      <td>0.305931</td>\n",
       "      <td>0.0</td>\n",
       "    </tr>\n",
       "    <tr>\n",
       "      <th>12372</th>\n",
       "      <td>0.197394</td>\n",
       "      <td>0.146250</td>\n",
       "      <td>1.000000</td>\n",
       "      <td>0.048878</td>\n",
       "      <td>0.000000</td>\n",
       "      <td>0.090909</td>\n",
       "      <td>0.223552</td>\n",
       "      <td>0.445240</td>\n",
       "      <td>0.0</td>\n",
       "      <td>0.059121</td>\n",
       "      <td>0.187537</td>\n",
       "      <td>0.568069</td>\n",
       "      <td>1.000000</td>\n",
       "      <td>0.235464</td>\n",
       "      <td>0.909525</td>\n",
       "      <td>0.353578</td>\n",
       "      <td>0.0</td>\n",
       "    </tr>\n",
       "    <tr>\n",
       "      <th>12373</th>\n",
       "      <td>0.144018</td>\n",
       "      <td>0.083881</td>\n",
       "      <td>1.000000</td>\n",
       "      <td>0.093787</td>\n",
       "      <td>0.000000</td>\n",
       "      <td>0.090909</td>\n",
       "      <td>0.223552</td>\n",
       "      <td>0.445240</td>\n",
       "      <td>0.0</td>\n",
       "      <td>0.026255</td>\n",
       "      <td>0.106117</td>\n",
       "      <td>0.201818</td>\n",
       "      <td>1.000000</td>\n",
       "      <td>0.294649</td>\n",
       "      <td>0.491284</td>\n",
       "      <td>0.545518</td>\n",
       "      <td>0.0</td>\n",
       "    </tr>\n",
       "    <tr>\n",
       "      <th>12374</th>\n",
       "      <td>0.195870</td>\n",
       "      <td>0.145212</td>\n",
       "      <td>0.064983</td>\n",
       "      <td>0.000289</td>\n",
       "      <td>0.000000</td>\n",
       "      <td>0.036257</td>\n",
       "      <td>0.066640</td>\n",
       "      <td>0.037750</td>\n",
       "      <td>0.0</td>\n",
       "      <td>0.004966</td>\n",
       "      <td>0.052827</td>\n",
       "      <td>0.071252</td>\n",
       "      <td>0.000000</td>\n",
       "      <td>0.048578</td>\n",
       "      <td>0.446441</td>\n",
       "      <td>1.000000</td>\n",
       "      <td>0.0</td>\n",
       "    </tr>\n",
       "    <tr>\n",
       "      <th>12375</th>\n",
       "      <td>0.086872</td>\n",
       "      <td>0.946228</td>\n",
       "      <td>0.075785</td>\n",
       "      <td>0.134185</td>\n",
       "      <td>0.076892</td>\n",
       "      <td>0.349509</td>\n",
       "      <td>0.224332</td>\n",
       "      <td>0.011310</td>\n",
       "      <td>0.0</td>\n",
       "      <td>0.047641</td>\n",
       "      <td>0.999125</td>\n",
       "      <td>0.024568</td>\n",
       "      <td>0.064986</td>\n",
       "      <td>0.390061</td>\n",
       "      <td>0.639998</td>\n",
       "      <td>0.276820</td>\n",
       "      <td>0.0</td>\n",
       "    </tr>\n",
       "  </tbody>\n",
       "</table>\n",
       "<p>12376 rows × 17 columns</p>\n",
       "</div>\n",
       "      <button class=\"colab-df-convert\" onclick=\"convertToInteractive('df-833a2eba-84fa-42cc-b024-ca16f92cf2f1')\"\n",
       "              title=\"Convert this dataframe to an interactive table.\"\n",
       "              style=\"display:none;\">\n",
       "        \n",
       "  <svg xmlns=\"http://www.w3.org/2000/svg\" height=\"24px\"viewBox=\"0 0 24 24\"\n",
       "       width=\"24px\">\n",
       "    <path d=\"M0 0h24v24H0V0z\" fill=\"none\"/>\n",
       "    <path d=\"M18.56 5.44l.94 2.06.94-2.06 2.06-.94-2.06-.94-.94-2.06-.94 2.06-2.06.94zm-11 1L8.5 8.5l.94-2.06 2.06-.94-2.06-.94L8.5 2.5l-.94 2.06-2.06.94zm10 10l.94 2.06.94-2.06 2.06-.94-2.06-.94-.94-2.06-.94 2.06-2.06.94z\"/><path d=\"M17.41 7.96l-1.37-1.37c-.4-.4-.92-.59-1.43-.59-.52 0-1.04.2-1.43.59L10.3 9.45l-7.72 7.72c-.78.78-.78 2.05 0 2.83L4 21.41c.39.39.9.59 1.41.59.51 0 1.02-.2 1.41-.59l7.78-7.78 2.81-2.81c.8-.78.8-2.07 0-2.86zM5.41 20L4 18.59l7.72-7.72 1.47 1.35L5.41 20z\"/>\n",
       "  </svg>\n",
       "      </button>\n",
       "      \n",
       "  <style>\n",
       "    .colab-df-container {\n",
       "      display:flex;\n",
       "      flex-wrap:wrap;\n",
       "      gap: 12px;\n",
       "    }\n",
       "\n",
       "    .colab-df-convert {\n",
       "      background-color: #E8F0FE;\n",
       "      border: none;\n",
       "      border-radius: 50%;\n",
       "      cursor: pointer;\n",
       "      display: none;\n",
       "      fill: #1967D2;\n",
       "      height: 32px;\n",
       "      padding: 0 0 0 0;\n",
       "      width: 32px;\n",
       "    }\n",
       "\n",
       "    .colab-df-convert:hover {\n",
       "      background-color: #E2EBFA;\n",
       "      box-shadow: 0px 1px 2px rgba(60, 64, 67, 0.3), 0px 1px 3px 1px rgba(60, 64, 67, 0.15);\n",
       "      fill: #174EA6;\n",
       "    }\n",
       "\n",
       "    [theme=dark] .colab-df-convert {\n",
       "      background-color: #3B4455;\n",
       "      fill: #D2E3FC;\n",
       "    }\n",
       "\n",
       "    [theme=dark] .colab-df-convert:hover {\n",
       "      background-color: #434B5C;\n",
       "      box-shadow: 0px 1px 3px 1px rgba(0, 0, 0, 0.15);\n",
       "      filter: drop-shadow(0px 1px 2px rgba(0, 0, 0, 0.3));\n",
       "      fill: #FFFFFF;\n",
       "    }\n",
       "  </style>\n",
       "\n",
       "      <script>\n",
       "        const buttonEl =\n",
       "          document.querySelector('#df-833a2eba-84fa-42cc-b024-ca16f92cf2f1 button.colab-df-convert');\n",
       "        buttonEl.style.display =\n",
       "          google.colab.kernel.accessAllowed ? 'block' : 'none';\n",
       "\n",
       "        async function convertToInteractive(key) {\n",
       "          const element = document.querySelector('#df-833a2eba-84fa-42cc-b024-ca16f92cf2f1');\n",
       "          const dataTable =\n",
       "            await google.colab.kernel.invokeFunction('convertToInteractive',\n",
       "                                                     [key], {});\n",
       "          if (!dataTable) return;\n",
       "\n",
       "          const docLinkHtml = 'Like what you see? Visit the ' +\n",
       "            '<a target=\"_blank\" href=https://colab.research.google.com/notebooks/data_table.ipynb>data table notebook</a>'\n",
       "            + ' to learn more about interactive tables.';\n",
       "          element.innerHTML = '';\n",
       "          dataTable['output_type'] = 'display_data';\n",
       "          await google.colab.output.renderOutput(dataTable, element);\n",
       "          const docLink = document.createElement('div');\n",
       "          docLink.innerHTML = docLinkHtml;\n",
       "          element.appendChild(docLink);\n",
       "        }\n",
       "      </script>\n",
       "    </div>\n",
       "  </div>\n",
       "  "
      ],
      "text/plain": [
       "           att0  timestamp_  ...  cycles_per_instruction  event_type\n",
       "0      0.571564    0.323034  ...                1.000000         0.0\n",
       "1      0.571614    0.323118  ...                0.415552         1.0\n",
       "2      0.571663    0.306648  ...                0.091293         0.0\n",
       "3      0.571763    0.306876  ...                0.052683         0.0\n",
       "4      0.571813    0.306900  ...                0.591828         0.0\n",
       "...         ...         ...  ...                     ...         ...\n",
       "12371  0.916029    0.779580  ...                0.305931         0.0\n",
       "12372  0.197394    0.146250  ...                0.353578         0.0\n",
       "12373  0.144018    0.083881  ...                0.545518         0.0\n",
       "12374  0.195870    0.145212  ...                1.000000         0.0\n",
       "12375  0.086872    0.946228  ...                0.276820         0.0\n",
       "\n",
       "[12376 rows x 17 columns]"
      ]
     },
     "execution_count": 17,
     "metadata": {},
     "output_type": "execute_result"
    }
   ],
   "source": [
    "#read csv file\n",
    "\n",
    "df = pd.read_csv('Group_Project_DSC761_FeatureEngineering_VIF_300122-outlier_treated_SMOTE.csv', header=0)\n",
    "df"
   ]
  },
  {
   "cell_type": "markdown",
   "id": "_Mjlt86836w1",
   "metadata": {
    "id": "_Mjlt86836w1"
   },
   "source": [
    "* Dataset from Feature Engineering output using VIF method is retrieved\n",
    "* Total number of data points is 12,376 rows with 17 columns"
   ]
  },
  {
   "cell_type": "code",
   "execution_count": null,
   "id": "33fe6f94",
   "metadata": {
    "colab": {
     "base_uri": "https://localhost:8080/"
    },
    "id": "33fe6f94",
    "outputId": "8c3b4566-ada0-474b-a191-36f84bb52f07",
    "scrolled": true
   },
   "outputs": [
    {
     "name": "stdout",
     "output_type": "stream",
     "text": [
      "0        0.0\n",
      "1        1.0\n",
      "2        0.0\n",
      "3        0.0\n",
      "4        0.0\n",
      "        ... \n",
      "12371    0.0\n",
      "12372    0.0\n",
      "12373    0.0\n",
      "12374    0.0\n",
      "12375    0.0\n",
      "Name: event_type, Length: 12376, dtype: float64\n"
     ]
    }
   ],
   "source": [
    "#separating dependent and independent variables\n",
    "\n",
    "X = df.iloc[:,[0,1,2,3,4,5,6,7,8,9,10,11,12,13,14,15]]\n",
    "y = df.iloc[:, 16]\n",
    "print(y)"
   ]
  },
  {
   "cell_type": "markdown",
   "id": "pvYMZ28K3-0v",
   "metadata": {
    "id": "pvYMZ28K3-0v"
   },
   "source": [
    "* The features are separated between independent and target variables\n",
    "* event_type specified as target variable (label)"
   ]
  },
  {
   "cell_type": "code",
   "execution_count": null,
   "id": "3bce2977",
   "metadata": {
    "colab": {
     "base_uri": "https://localhost:8080/"
    },
    "id": "3bce2977",
    "outputId": "f6546f83-34e7-4780-c9c6-4c0eaf229824"
   },
   "outputs": [
    {
     "data": {
      "text/html": [
       "\n",
       "  <div id=\"df-375dd0a0-76d3-4cd5-9b97-27bfff672bdc\">\n",
       "    <div class=\"colab-df-container\">\n",
       "      <div>\n",
       "<style scoped>\n",
       "    .dataframe tbody tr th:only-of-type {\n",
       "        vertical-align: middle;\n",
       "    }\n",
       "\n",
       "    .dataframe tbody tr th {\n",
       "        vertical-align: top;\n",
       "    }\n",
       "\n",
       "    .dataframe thead th {\n",
       "        text-align: right;\n",
       "    }\n",
       "</style>\n",
       "<table border=\"1\" class=\"dataframe\">\n",
       "  <thead>\n",
       "    <tr style=\"text-align: right;\">\n",
       "      <th></th>\n",
       "      <th>att0</th>\n",
       "      <th>timestamp_</th>\n",
       "      <th>task_index</th>\n",
       "      <th>machine_id</th>\n",
       "      <th>priority</th>\n",
       "      <th>cpu_request</th>\n",
       "      <th>memory_request</th>\n",
       "      <th>disk_space_request</th>\n",
       "      <th>different_machine_restriction</th>\n",
       "      <th>cpu_rate</th>\n",
       "      <th>canonical_memory_usage</th>\n",
       "      <th>disk_i_o_time</th>\n",
       "      <th>local_disk_space_usage</th>\n",
       "      <th>maximum_cpu_rate</th>\n",
       "      <th>maximum_disk_i_o_time</th>\n",
       "      <th>cycles_per_instruction</th>\n",
       "    </tr>\n",
       "  </thead>\n",
       "  <tbody>\n",
       "    <tr>\n",
       "      <th>0</th>\n",
       "      <td>0.571564</td>\n",
       "      <td>0.323034</td>\n",
       "      <td>0.173791</td>\n",
       "      <td>0.120373</td>\n",
       "      <td>0.1</td>\n",
       "      <td>0.454545</td>\n",
       "      <td>0.447118</td>\n",
       "      <td>0.212050</td>\n",
       "      <td>0.0</td>\n",
       "      <td>0.120327</td>\n",
       "      <td>0.113557</td>\n",
       "      <td>0.092867</td>\n",
       "      <td>0.044446</td>\n",
       "      <td>0.180972</td>\n",
       "      <td>0.180730</td>\n",
       "      <td>1.000000</td>\n",
       "    </tr>\n",
       "    <tr>\n",
       "      <th>1</th>\n",
       "      <td>0.571614</td>\n",
       "      <td>0.323118</td>\n",
       "      <td>0.043648</td>\n",
       "      <td>0.098205</td>\n",
       "      <td>0.0</td>\n",
       "      <td>0.045440</td>\n",
       "      <td>0.058128</td>\n",
       "      <td>0.425202</td>\n",
       "      <td>0.0</td>\n",
       "      <td>0.023178</td>\n",
       "      <td>0.021797</td>\n",
       "      <td>0.073094</td>\n",
       "      <td>0.000000</td>\n",
       "      <td>0.122182</td>\n",
       "      <td>0.566249</td>\n",
       "      <td>0.415552</td>\n",
       "    </tr>\n",
       "    <tr>\n",
       "      <th>2</th>\n",
       "      <td>0.571663</td>\n",
       "      <td>0.306648</td>\n",
       "      <td>0.042447</td>\n",
       "      <td>0.000355</td>\n",
       "      <td>0.9</td>\n",
       "      <td>0.499855</td>\n",
       "      <td>1.000000</td>\n",
       "      <td>0.064044</td>\n",
       "      <td>0.0</td>\n",
       "      <td>0.064687</td>\n",
       "      <td>0.031344</td>\n",
       "      <td>1.000000</td>\n",
       "      <td>0.133333</td>\n",
       "      <td>0.112937</td>\n",
       "      <td>0.629141</td>\n",
       "      <td>0.091293</td>\n",
       "    </tr>\n",
       "    <tr>\n",
       "      <th>3</th>\n",
       "      <td>0.571763</td>\n",
       "      <td>0.306876</td>\n",
       "      <td>0.163380</td>\n",
       "      <td>0.000253</td>\n",
       "      <td>0.0</td>\n",
       "      <td>0.363564</td>\n",
       "      <td>0.671105</td>\n",
       "      <td>0.085051</td>\n",
       "      <td>0.0</td>\n",
       "      <td>1.000000</td>\n",
       "      <td>1.000000</td>\n",
       "      <td>0.318697</td>\n",
       "      <td>0.400000</td>\n",
       "      <td>1.000000</td>\n",
       "      <td>0.633169</td>\n",
       "      <td>0.052683</td>\n",
       "    </tr>\n",
       "    <tr>\n",
       "      <th>4</th>\n",
       "      <td>0.571813</td>\n",
       "      <td>0.306900</td>\n",
       "      <td>0.147362</td>\n",
       "      <td>0.058062</td>\n",
       "      <td>0.0</td>\n",
       "      <td>0.090909</td>\n",
       "      <td>0.109196</td>\n",
       "      <td>0.445240</td>\n",
       "      <td>0.0</td>\n",
       "      <td>0.004505</td>\n",
       "      <td>0.092784</td>\n",
       "      <td>0.069476</td>\n",
       "      <td>0.000000</td>\n",
       "      <td>0.038499</td>\n",
       "      <td>0.389436</td>\n",
       "      <td>0.591828</td>\n",
       "    </tr>\n",
       "  </tbody>\n",
       "</table>\n",
       "</div>\n",
       "      <button class=\"colab-df-convert\" onclick=\"convertToInteractive('df-375dd0a0-76d3-4cd5-9b97-27bfff672bdc')\"\n",
       "              title=\"Convert this dataframe to an interactive table.\"\n",
       "              style=\"display:none;\">\n",
       "        \n",
       "  <svg xmlns=\"http://www.w3.org/2000/svg\" height=\"24px\"viewBox=\"0 0 24 24\"\n",
       "       width=\"24px\">\n",
       "    <path d=\"M0 0h24v24H0V0z\" fill=\"none\"/>\n",
       "    <path d=\"M18.56 5.44l.94 2.06.94-2.06 2.06-.94-2.06-.94-.94-2.06-.94 2.06-2.06.94zm-11 1L8.5 8.5l.94-2.06 2.06-.94-2.06-.94L8.5 2.5l-.94 2.06-2.06.94zm10 10l.94 2.06.94-2.06 2.06-.94-2.06-.94-.94-2.06-.94 2.06-2.06.94z\"/><path d=\"M17.41 7.96l-1.37-1.37c-.4-.4-.92-.59-1.43-.59-.52 0-1.04.2-1.43.59L10.3 9.45l-7.72 7.72c-.78.78-.78 2.05 0 2.83L4 21.41c.39.39.9.59 1.41.59.51 0 1.02-.2 1.41-.59l7.78-7.78 2.81-2.81c.8-.78.8-2.07 0-2.86zM5.41 20L4 18.59l7.72-7.72 1.47 1.35L5.41 20z\"/>\n",
       "  </svg>\n",
       "      </button>\n",
       "      \n",
       "  <style>\n",
       "    .colab-df-container {\n",
       "      display:flex;\n",
       "      flex-wrap:wrap;\n",
       "      gap: 12px;\n",
       "    }\n",
       "\n",
       "    .colab-df-convert {\n",
       "      background-color: #E8F0FE;\n",
       "      border: none;\n",
       "      border-radius: 50%;\n",
       "      cursor: pointer;\n",
       "      display: none;\n",
       "      fill: #1967D2;\n",
       "      height: 32px;\n",
       "      padding: 0 0 0 0;\n",
       "      width: 32px;\n",
       "    }\n",
       "\n",
       "    .colab-df-convert:hover {\n",
       "      background-color: #E2EBFA;\n",
       "      box-shadow: 0px 1px 2px rgba(60, 64, 67, 0.3), 0px 1px 3px 1px rgba(60, 64, 67, 0.15);\n",
       "      fill: #174EA6;\n",
       "    }\n",
       "\n",
       "    [theme=dark] .colab-df-convert {\n",
       "      background-color: #3B4455;\n",
       "      fill: #D2E3FC;\n",
       "    }\n",
       "\n",
       "    [theme=dark] .colab-df-convert:hover {\n",
       "      background-color: #434B5C;\n",
       "      box-shadow: 0px 1px 3px 1px rgba(0, 0, 0, 0.15);\n",
       "      filter: drop-shadow(0px 1px 2px rgba(0, 0, 0, 0.3));\n",
       "      fill: #FFFFFF;\n",
       "    }\n",
       "  </style>\n",
       "\n",
       "      <script>\n",
       "        const buttonEl =\n",
       "          document.querySelector('#df-375dd0a0-76d3-4cd5-9b97-27bfff672bdc button.colab-df-convert');\n",
       "        buttonEl.style.display =\n",
       "          google.colab.kernel.accessAllowed ? 'block' : 'none';\n",
       "\n",
       "        async function convertToInteractive(key) {\n",
       "          const element = document.querySelector('#df-375dd0a0-76d3-4cd5-9b97-27bfff672bdc');\n",
       "          const dataTable =\n",
       "            await google.colab.kernel.invokeFunction('convertToInteractive',\n",
       "                                                     [key], {});\n",
       "          if (!dataTable) return;\n",
       "\n",
       "          const docLinkHtml = 'Like what you see? Visit the ' +\n",
       "            '<a target=\"_blank\" href=https://colab.research.google.com/notebooks/data_table.ipynb>data table notebook</a>'\n",
       "            + ' to learn more about interactive tables.';\n",
       "          element.innerHTML = '';\n",
       "          dataTable['output_type'] = 'display_data';\n",
       "          await google.colab.output.renderOutput(dataTable, element);\n",
       "          const docLink = document.createElement('div');\n",
       "          docLink.innerHTML = docLinkHtml;\n",
       "          element.appendChild(docLink);\n",
       "        }\n",
       "      </script>\n",
       "    </div>\n",
       "  </div>\n",
       "  "
      ],
      "text/plain": [
       "       att0  timestamp_  ...  maximum_disk_i_o_time  cycles_per_instruction\n",
       "0  0.571564    0.323034  ...               0.180730                1.000000\n",
       "1  0.571614    0.323118  ...               0.566249                0.415552\n",
       "2  0.571663    0.306648  ...               0.629141                0.091293\n",
       "3  0.571763    0.306876  ...               0.633169                0.052683\n",
       "4  0.571813    0.306900  ...               0.389436                0.591828\n",
       "\n",
       "[5 rows x 16 columns]"
      ]
     },
     "execution_count": 19,
     "metadata": {},
     "output_type": "execute_result"
    }
   ],
   "source": [
    "X.head()"
   ]
  },
  {
   "cell_type": "markdown",
   "id": "4iSTJ3sM4CY-",
   "metadata": {
    "id": "4iSTJ3sM4CY-"
   },
   "source": [
    "* Example of Top 5 data from independent variables"
   ]
  },
  {
   "cell_type": "code",
   "execution_count": null,
   "id": "8a372939",
   "metadata": {
    "colab": {
     "base_uri": "https://localhost:8080/"
    },
    "id": "8a372939",
    "outputId": "d5bb2142-07e4-45d0-a4fe-c29aca20f6e4"
   },
   "outputs": [
    {
     "data": {
      "text/plain": [
       "0    0.0\n",
       "1    1.0\n",
       "2    0.0\n",
       "3    0.0\n",
       "4    0.0\n",
       "Name: event_type, dtype: float64"
      ]
     },
     "execution_count": 20,
     "metadata": {},
     "output_type": "execute_result"
    }
   ],
   "source": [
    "y.head()"
   ]
  },
  {
   "cell_type": "markdown",
   "id": "-BVTNh7N4DS_",
   "metadata": {
    "id": "-BVTNh7N4DS_"
   },
   "source": [
    "* Example of Top 5 data from dependent (target) variables"
   ]
  },
  {
   "cell_type": "code",
   "execution_count": null,
   "id": "081e3225",
   "metadata": {
    "colab": {
     "base_uri": "https://localhost:8080/"
    },
    "id": "081e3225",
    "outputId": "ee9b3fd2-0d2f-45dc-84da-feb4049d33a5"
   },
   "outputs": [
    {
     "name": "stdout",
     "output_type": "stream",
     "text": [
      "(12376, 16) (8663, 16) (3713, 16) (12376,) (8663,) (3713,)\n"
     ]
    }
   ],
   "source": [
    "#splitting the dataset into the Training set and Test set\n",
    "\n",
    "from sklearn.model_selection import train_test_split\n",
    "X_train, X_test, y_train, y_test = train_test_split(X,y,test_size=0.3,random_state=42)\n",
    "\n",
    "# Indicate the shape of training and testing data\n",
    "print(X.shape, X_train.shape, X_test.shape, y.shape, y_train.shape, y_test.shape)"
   ]
  },
  {
   "cell_type": "markdown",
   "id": "fyJyvlI54F1p",
   "metadata": {
    "id": "fyJyvlI54F1p"
   },
   "source": [
    "* Data set is splitted into 2 sets\n",
    "* 70% for training and remaining 30% for testing"
   ]
  },
  {
   "cell_type": "markdown",
   "id": "vneIdZo_4IEB",
   "metadata": {
    "id": "vneIdZo_4IEB"
   },
   "source": [
    "Three processess are followed for each model:\n",
    "1. Setting hyperparameter value - this is crucial to set the selected parameters that needs to be find\n",
    "2. Specify the best estimator into model - the function is to find the optimal combinations of parameter that are set earlier\n",
    "3. Prediction - this step is to predict the class of label in testing dataset for evaluation"
   ]
  },
  {
   "cell_type": "markdown",
   "id": "CUpdRaAOI2wH",
   "metadata": {
    "id": "CUpdRaAOI2wH"
   },
   "source": [
    "# **B) LOGISTIC REGRESSION MODELING**\n",
    "        #defining grid search parameters of Logistic Regression\n",
    "        #hyperparameter tuning using training data - to find the optimal combination of hyperparameters that minimize a predefined loss function to give better results\n",
    "        #specifying class_weight, max_iter in LR modeling\n",
    "        #predicting target variable"
   ]
  },
  {
   "cell_type": "markdown",
   "id": "034c26b1",
   "metadata": {
    "id": "034c26b1"
   },
   "source": [
    "LOGISTIC REGRESSION MODEL"
   ]
  },
  {
   "cell_type": "code",
   "execution_count": null,
   "id": "7e1f5dfc",
   "metadata": {
    "id": "7e1f5dfc"
   },
   "outputs": [],
   "source": [
    "#define grid search parameters Logistic Regression\n",
    "param_grid_lr = {\n",
    "    'max_iter': [20, 50, 100, 200, 500, 1000], #number of iterations                      \n",
    "    'solver': ['newton-cg', 'lbfgs', 'liblinear', 'sag', 'saga'], #algorithm to use for optimization   \n",
    "    'class_weight': ['balanced'] #to troubleshoot unbalanced data sampling \n",
    "}"
   ]
  },
  {
   "cell_type": "markdown",
   "id": "_K3OYlqf4P9M",
   "metadata": {
    "id": "_K3OYlqf4P9M"
   },
   "source": [
    "* param_grid_lr is used to find the selected set of optimal parameter combinations, which are maximum number of iterations, optimization algorithm, and method of troubleshooting unbalanced sample class weight for Logistic Regression model"
   ]
  },
  {
   "cell_type": "code",
   "execution_count": null,
   "id": "1bc314c6",
   "metadata": {
    "colab": {
     "base_uri": "https://localhost:8080/"
    },
    "id": "1bc314c6",
    "outputId": "50326156-6a48-4792-a4f5-eae96111187a"
   },
   "outputs": [
    {
     "name": "stdout",
     "output_type": "stream",
     "text": [
      "Fitting 3 folds for each of 30 candidates, totalling 90 fits\n",
      "LogisticRegression(class_weight='balanced', max_iter=20, random_state=42)\n"
     ]
    },
    {
     "name": "stderr",
     "output_type": "stream",
     "text": [
      "/usr/local/lib/python3.7/dist-packages/sklearn/linear_model/_logistic.py:818: ConvergenceWarning: lbfgs failed to converge (status=1):\n",
      "STOP: TOTAL NO. of ITERATIONS REACHED LIMIT.\n",
      "\n",
      "Increase the number of iterations (max_iter) or scale the data as shown in:\n",
      "    https://scikit-learn.org/stable/modules/preprocessing.html\n",
      "Please also refer to the documentation for alternative solver options:\n",
      "    https://scikit-learn.org/stable/modules/linear_model.html#logistic-regression\n",
      "  extra_warning_msg=_LOGISTIC_SOLVER_CONVERGENCE_MSG,\n"
     ]
    }
   ],
   "source": [
    "#hyperparameter tune using training data - to find the optimal combination of hyperparameters that minimize a predefined loss function to give better results\n",
    "\n",
    "\n",
    "from sklearn.linear_model import LogisticRegression\n",
    "from sklearn.model_selection import GridSearchCV\n",
    "\n",
    "logModel_grid = GridSearchCV(estimator=LogisticRegression(random_state=42), \n",
    "                             param_grid=param_grid_lr, verbose=1, cv=3, n_jobs=-1)\n",
    "\n",
    "logModel_grid.fit(X_train, y_train)\n",
    "\n",
    "print(logModel_grid.best_estimator_)"
   ]
  },
  {
   "cell_type": "markdown",
   "id": "XkcCNWWs4Un4",
   "metadata": {
    "id": "XkcCNWWs4Un4"
   },
   "source": [
    "As for LR cross-validation estimator, the parameter that involve are, \n",
    "* estimator is the machine learning model of interest that provide a scoring function. \n",
    "* random_state is a consistent number for model-to-model comparison, to avoid discrepancies in model numeric assessment output. In this model, the number is set to 42.\n",
    "* param_grid is a dictionary with parameters names and lists of parameters settings to try as values. It allows users to browse through any series of parameter settings\n",
    "* verbose is the verbosity, the higher the more message. In this model it is set to 1.\n",
    "* cv is cross validation generator. In this model, it is set to 3\n",
    "* n_jobs is the maximum number of concurrently running worker. In this model it is set to -1, which means all CPUs are used. \n"
   ]
  },
  {
   "cell_type": "code",
   "execution_count": null,
   "id": "a3ebe09d",
   "metadata": {
    "id": "a3ebe09d"
   },
   "outputs": [],
   "source": [
    "# specify class_weight, max_iter in LR modeling\n",
    "modelLR = LogisticRegression(class_weight='balanced', max_iter=20, random_state=42)"
   ]
  },
  {
   "cell_type": "markdown",
   "id": "5wMVeJaL4Zmp",
   "metadata": {
    "id": "5wMVeJaL4Zmp"
   },
   "source": [
    "All the optimal parameter found using GridSearchCV function is specify into the model where the optimum parameters for Logistic Regression model are found to be:\n",
    "* class_weight=balanced\n",
    "* max_iter=20\n",
    "* random_state=42"
   ]
  },
  {
   "cell_type": "code",
   "execution_count": null,
   "id": "23d55b1d",
   "metadata": {
    "colab": {
     "base_uri": "https://localhost:8080/"
    },
    "id": "23d55b1d",
    "outputId": "336a9e2a-ea38-46d5-cc1c-7d9284c20e80"
   },
   "outputs": [
    {
     "name": "stdout",
     "output_type": "stream",
     "text": [
      "[0. 1. 1. ... 1. 1. 0.]\n"
     ]
    },
    {
     "name": "stderr",
     "output_type": "stream",
     "text": [
      "/usr/local/lib/python3.7/dist-packages/sklearn/linear_model/_logistic.py:818: ConvergenceWarning: lbfgs failed to converge (status=1):\n",
      "STOP: TOTAL NO. of ITERATIONS REACHED LIMIT.\n",
      "\n",
      "Increase the number of iterations (max_iter) or scale the data as shown in:\n",
      "    https://scikit-learn.org/stable/modules/preprocessing.html\n",
      "Please also refer to the documentation for alternative solver options:\n",
      "    https://scikit-learn.org/stable/modules/linear_model.html#logistic-regression\n",
      "  extra_warning_msg=_LOGISTIC_SOLVER_CONVERGENCE_MSG,\n"
     ]
    }
   ],
   "source": [
    "# predicting target variable\n",
    "\n",
    "modelLR.fit(X_train, y_train)\n",
    "y_pred1 = modelLR.predict(X_test)\n",
    "print(y_pred1)"
   ]
  },
  {
   "cell_type": "markdown",
   "id": "x-WjnzlaJc3E",
   "metadata": {
    "id": "x-WjnzlaJc3E"
   },
   "source": [
    "# **C) NAIVE BAYES MODELING**\n",
    "    #defining gid search parameters of Naive Bayes\n",
    "    #executing gridsearchCV to optimize NB hyperparameter\n",
    "    #specifying var_smoothing in NB modeling\n",
    "    #predicting target variable"
   ]
  },
  {
   "cell_type": "markdown",
   "id": "3ea64d63",
   "metadata": {
    "id": "3ea64d63"
   },
   "source": [
    "NAIVE BAYES MODEL"
   ]
  },
  {
   "cell_type": "code",
   "execution_count": null,
   "id": "2fccad1b",
   "metadata": {
    "id": "2fccad1b"
   },
   "outputs": [],
   "source": [
    "# Define gid search parameters for Naive Bayes\n",
    "param_grid_nb = {\n",
    "    'var_smoothing': np.logspace(0,-9, num=100)\n",
    "}"
   ]
  },
  {
   "cell_type": "markdown",
   "id": "rwMOd0dP4eT3",
   "metadata": {
    "id": "rwMOd0dP4eT3"
   },
   "source": [
    "param_grid_nb is used to find the selected set of optimal parameter combinations, which is\n",
    "* var_smoothing - stability \n",
    "calculation to smooth or widen the curve, for more samples that are further away from the distributed mean"
   ]
  },
  {
   "cell_type": "code",
   "execution_count": null,
   "id": "6133efd4",
   "metadata": {
    "colab": {
     "base_uri": "https://localhost:8080/"
    },
    "id": "6133efd4",
    "outputId": "2722f499-9842-49a3-d7ff-8d660ad920f9"
   },
   "outputs": [
    {
     "name": "stdout",
     "output_type": "stream",
     "text": [
      "Fitting 10 folds for each of 100 candidates, totalling 1000 fits\n",
      "GaussianNB(var_smoothing=0.01519911082952933)\n"
     ]
    }
   ],
   "source": [
    "# Execute gridsearchCV to optimize NB hyperparameter\n",
    "\n",
    "from sklearn.naive_bayes import GaussianNB\n",
    "from sklearn.model_selection import GridSearchCV\n",
    "\n",
    "nbModel_grid = GridSearchCV(estimator=GaussianNB(), param_grid=param_grid_nb, verbose=1, cv=10, n_jobs=-1)\n",
    "nbModel_grid.fit(X_train, y_train)\n",
    "print(nbModel_grid.best_estimator_)"
   ]
  },
  {
   "cell_type": "code",
   "execution_count": null,
   "id": "f09731bd",
   "metadata": {
    "id": "f09731bd"
   },
   "outputs": [],
   "source": [
    "# specify var_smoothing in NB modeling\n",
    "\n",
    "modelNB = GaussianNB(var_smoothing=0.01519911082952933)"
   ]
  },
  {
   "cell_type": "markdown",
   "id": "_3W93oIW4iw-",
   "metadata": {
    "id": "_3W93oIW4iw-"
   },
   "source": [
    "The optimal parameter found using GridSearchCV function is specify into the model where the optimum parameter for Naive Bayes model is found to be:\n",
    "* var_smoothing=0.01519911082952933"
   ]
  },
  {
   "cell_type": "code",
   "execution_count": null,
   "id": "126873aa",
   "metadata": {
    "colab": {
     "base_uri": "https://localhost:8080/"
    },
    "id": "126873aa",
    "outputId": "c8e62136-8877-4a05-f9a1-0a57e262a7cc"
   },
   "outputs": [
    {
     "name": "stdout",
     "output_type": "stream",
     "text": [
      "[0. 1. 1. ... 1. 1. 0.]\n"
     ]
    }
   ],
   "source": [
    "# predicting target variable\n",
    "\n",
    "modelNB.fit(X_train, y_train)\n",
    "y_pred2 = modelNB.predict(X_test)\n",
    "print(y_pred2)"
   ]
  },
  {
   "cell_type": "markdown",
   "id": "6JyRSDOHJnGg",
   "metadata": {
    "id": "6JyRSDOHJnGg"
   },
   "source": [
    "# **D) DECISION TREE MODELING**\n",
    "    #hyperparameter tuning of Decision Tree\n",
    "    #modeling with the best parameter\n",
    "    #predicting the response for test dataset"
   ]
  },
  {
   "cell_type": "markdown",
   "id": "814aa711",
   "metadata": {
    "id": "814aa711"
   },
   "source": [
    "DECISION TREE MODEL"
   ]
  },
  {
   "cell_type": "code",
   "execution_count": null,
   "id": "56ed4930",
   "metadata": {
    "colab": {
     "base_uri": "https://localhost:8080/"
    },
    "id": "56ed4930",
    "outputId": "0955b8b8-0f01-4e12-c159-0ec6da5f9cc2"
   },
   "outputs": [
    {
     "name": "stdout",
     "output_type": "stream",
     "text": [
      "Fitting 3 folds for each of 588 candidates, totalling 1764 fits\n",
      "DecisionTreeClassifier(criterion='entropy', max_leaf_nodes=98, random_state=42)\n"
     ]
    }
   ],
   "source": [
    "#Hyperparameter tuning Decision Tree\n",
    "\n",
    "from sklearn.tree import DecisionTreeClassifier\n",
    "from sklearn.model_selection import GridSearchCV\n",
    "\n",
    "params = {'max_leaf_nodes': list(range(2, 100)), 'min_samples_split': [2, 3, 4], 'criterion': ['gini', 'entropy']}\n",
    "grid_search_cv = GridSearchCV(DecisionTreeClassifier(random_state=42), params, verbose=1, cv=3)\n",
    "grid_search_cv.fit(X_train, y_train)\n",
    "\n",
    "print(grid_search_cv.best_estimator_)"
   ]
  },
  {
   "cell_type": "markdown",
   "id": "Kgf8QjSB4nR6",
   "metadata": {
    "id": "Kgf8QjSB4nR6"
   },
   "source": [
    "params is used to find the selected set of optimal parameter combinations, which are:\n",
    "* max_leaf_nodes = maximum number of relative reductions in impurity for Decision Tree model\n",
    "* min_samples_split = minimum number of samples required to split an internal node\n",
    "* criterion = function to measure the quality of a split"
   ]
  },
  {
   "cell_type": "markdown",
   "id": "9Q6t8n_j4n6x",
   "metadata": {
    "id": "9Q6t8n_j4n6x"
   },
   "source": [
    "The optimal parameter found using GridSearchCV function is specify into the model where the optimum parameter for Decision Tree model is found to be:\n",
    "* criterion = entropy\n",
    "* max_leaf_nodes = 98"
   ]
  },
  {
   "cell_type": "code",
   "execution_count": null,
   "id": "0f3d6fe1",
   "metadata": {
    "colab": {
     "base_uri": "https://localhost:8080/"
    },
    "id": "0f3d6fe1",
    "outputId": "f2567f18-9bb6-4edd-e21b-6bbcb158952d"
   },
   "outputs": [
    {
     "name": "stdout",
     "output_type": "stream",
     "text": [
      "[0. 1. 1. ... 0. 1. 0.]\n"
     ]
    }
   ],
   "source": [
    "#Model with the best parameter\n",
    "modelDT = DecisionTreeClassifier(criterion='entropy', max_leaf_nodes=98, random_state=42)\n",
    "modelDT = modelDT.fit(X_train,y_train)\n",
    "\n",
    "#Predict the response for test dataset\n",
    "y_pred3 = modelDT.predict(X_test)\n",
    "print(y_pred3)"
   ]
  },
  {
   "cell_type": "markdown",
   "id": "eQbIAKeoJzZk",
   "metadata": {
    "id": "eQbIAKeoJzZk"
   },
   "source": [
    "## **EVALUATION**"
   ]
  },
  {
   "cell_type": "markdown",
   "id": "fPQ4RKpAJ2sr",
   "metadata": {
    "id": "fPQ4RKpAJ2sr"
   },
   "source": [
    "# **E) ROC CURVE**\n",
    "    #predicting probabilities\n",
    "    #roc curve for models\n",
    "    #roc curve for tpr = fpr \n",
    "    #auc scores\n",
    "    #matplotlib\n",
    "      ##plotting roc curves\n",
    "        ###title\n",
    "        ###x label\n",
    "        ###y label"
   ]
  },
  {
   "cell_type": "markdown",
   "id": "6dfd1602",
   "metadata": {
    "id": "6dfd1602"
   },
   "source": [
    "ROC CURVE"
   ]
  },
  {
   "cell_type": "markdown",
   "id": "YAa-s0v04tPL",
   "metadata": {
    "id": "YAa-s0v04tPL"
   },
   "source": [
    "* ROC is a probability curve and AUC represents the degree or measure of separability\n",
    "* The higher the AUC shows the better the model is at predicting class of prediction\n",
    "* AUC is better measure of than accuracy rate due to it does have bias on the size of data"
   ]
  },
  {
   "cell_type": "code",
   "execution_count": null,
   "id": "ac565714",
   "metadata": {
    "id": "ac565714"
   },
   "outputs": [],
   "source": [
    "model1 = modelLR\n",
    "model2 = modelNB\n",
    "model3 = modelDT\n",
    "\n",
    "# predict probabilities\n",
    "pred_prob1 = model1.predict_proba(X_test)\n",
    "pred_prob2 = model2.predict_proba(X_test)\n",
    "pred_prob3 = model3.predict_proba(X_test)"
   ]
  },
  {
   "cell_type": "code",
   "execution_count": null,
   "id": "a76e2939",
   "metadata": {
    "id": "a76e2939"
   },
   "outputs": [],
   "source": [
    "from sklearn.metrics import roc_curve\n",
    "\n",
    "# roc curve for models\n",
    "fpr1, tpr1, thresh1 = roc_curve(y_test, pred_prob1[:,1], pos_label=1)\n",
    "fpr2, tpr2, thresh2 = roc_curve(y_test, pred_prob2[:,1], pos_label=1)\n",
    "fpr3, tpr3, thresh3 = roc_curve(y_test, pred_prob3[:,1], pos_label=1)\n",
    "\n",
    "# roc curve for tpr = fpr \n",
    "random_probs = [0 for i in range(len(y_test))]\n",
    "p_fpr, p_tpr, _ = roc_curve(y_test, random_probs, pos_label=1)"
   ]
  },
  {
   "cell_type": "code",
   "execution_count": null,
   "id": "6773a77d",
   "metadata": {
    "colab": {
     "base_uri": "https://localhost:8080/"
    },
    "id": "6773a77d",
    "outputId": "a364cd6e-afd4-4544-de46-88923afc4e6d"
   },
   "outputs": [
    {
     "name": "stdout",
     "output_type": "stream",
     "text": [
      "0.8018197212588848 0.789688342920282 0.9153182843772196\n"
     ]
    }
   ],
   "source": [
    "from sklearn.metrics import roc_auc_score\n",
    "\n",
    "# auc scores\n",
    "auc_score1 = roc_auc_score(y_test, pred_prob1[:,1])\n",
    "auc_score2 = roc_auc_score(y_test, pred_prob2[:,1])\n",
    "auc_score3 = roc_auc_score(y_test, pred_prob3[:,1])\n",
    "\n",
    "print(auc_score1, auc_score2, auc_score3)"
   ]
  },
  {
   "cell_type": "markdown",
   "id": "YdzMhpU-4xEq",
   "metadata": {
    "id": "YdzMhpU-4xEq"
   },
   "source": [
    "From the AUC Score output above, model DT has the highest percentage among the others (>90%)"
   ]
  },
  {
   "cell_type": "code",
   "execution_count": null,
   "id": "76dca49c",
   "metadata": {
    "colab": {
     "base_uri": "https://localhost:8080/",
     "height": 376
    },
    "id": "76dca49c",
    "outputId": "87c6cc93-0912-4830-8e2d-5f84b77f2f98"
   },
   "outputs": [
    {
     "data": {
      "image/png": "[encoded data removed]",
      "text/plain": [
       "<Figure size 576x396 with 1 Axes>"
      ]
     },
     "metadata": {},
     "output_type": "display_data"
    }
   ],
   "source": [
    "# matplotlib\n",
    "import matplotlib.pyplot as plt\n",
    "plt.style.use('seaborn')\n",
    "\n",
    "# plot roc curves\n",
    "plt.plot(fpr1, tpr1, linestyle='--',color='orange', label='Logistic Regression')\n",
    "plt.plot(fpr2, tpr2, linestyle='--',color='green', label='Naive Bayes')\n",
    "plt.plot(fpr3, tpr3, linestyle='--',color='red', label='Decision Tree')\n",
    "plt.plot(p_fpr, p_tpr, linestyle='--', color='blue')\n",
    "# title\n",
    "plt.title('ROC curve')\n",
    "# x label\n",
    "plt.xlabel('False Positive Rate')\n",
    "# y label\n",
    "plt.ylabel('True Positive rate')\n",
    "\n",
    "plt.legend(loc='best')\n",
    "plt.savefig('ROC',dpi=300)\n",
    "plt.show();"
   ]
  },
  {
   "cell_type": "markdown",
   "id": "vZoJUxvg40KF",
   "metadata": {
    "id": "vZoJUxvg40KF"
   },
   "source": [
    "From the ROC curve above, model DT has the highest TP rate and lowest FP rate, making it is the best model to predict target variable out of all classifier"
   ]
  },
  {
   "cell_type": "markdown",
   "id": "29BvbfrjKHhz",
   "metadata": {
    "id": "29BvbfrjKHhz"
   },
   "source": [
    "# **F) CONFUSION MATRIX** "
   ]
  },
  {
   "cell_type": "markdown",
   "id": "15d06339",
   "metadata": {
    "id": "15d06339"
   },
   "source": [
    "CONFUSION MATRIX"
   ]
  },
  {
   "cell_type": "markdown",
   "id": "KW_FJ3E943Cg",
   "metadata": {
    "id": "KW_FJ3E943Cg"
   },
   "source": [
    "* Confusion matrix is used to visualize important metrics like recall, specificity, accuracy, and precision\n",
    "* It gives direct comparisons of values like True Positives, False Positives, True Negatives and False Negatives"
   ]
  },
  {
   "cell_type": "code",
   "execution_count": null,
   "id": "88d9d586",
   "metadata": {
    "id": "88d9d586"
   },
   "outputs": [],
   "source": [
    "from sklearn.linear_model import LogisticRegression\n",
    "from sklearn.tree import DecisionTreeClassifier\n",
    "from sklearn.naive_bayes import GaussianNB\n",
    "import collections\n",
    "\n",
    "classifiers = {\n",
    "    \"Naive Bayes\": GaussianNB(),\n",
    "    \"LogisiticRegression\": LogisticRegression(),\n",
    "    \"DecisionTreeClassifier\": DecisionTreeClassifier(),\n",
    "}"
   ]
  },
  {
   "cell_type": "code",
   "execution_count": null,
   "id": "50a00d84",
   "metadata": {
    "colab": {
     "base_uri": "https://localhost:8080/",
     "height": 238
    },
    "id": "50a00d84",
    "outputId": "f24ff02f-d36d-4ced-ad77-2a1463f21132"
   },
   "outputs": [
    {
     "name": "stdout",
     "output_type": "stream",
     "text": [
      "{'Naive Bayes': array([[1372,  469],\n",
      "       [ 544, 1328]]), 'LogisiticRegression': array([[1344,  497],\n",
      "       [ 499, 1373]]), 'DecisionTreeClassifier': array([[1572,  269],\n",
      "       [ 289, 1583]])}\n"
     ]
    },
    {
     "data": {
      "image/png": "[encoded data removed]",
      "text/plain": [
       "<Figure size 864x144 with 3 Axes>"
      ]
     },
     "metadata": {},
     "output_type": "display_data"
    }
   ],
   "source": [
    "from sklearn.metrics import confusion_matrix\n",
    "cf_matrix = dict.fromkeys(classifiers.keys())\n",
    "for key, classifier in classifiers.items(): \n",
    "    y_pred = classifier.fit(X_train, y_train.values.ravel()).predict(X_test)\n",
    "    cf_matrix[key]=confusion_matrix(y_test, y_pred)\n",
    "print(cf_matrix)\n",
    "\n",
    "fig, axn = plt.subplots(1,3, sharex=True, sharey=True,figsize=(12,2))\n",
    "\n",
    "for i, ax in enumerate(axn.flat):\n",
    "    k = list(cf_matrix)[i]\n",
    "    sns.heatmap(cf_matrix[k], ax=ax,cbar=i==4, annot=True, fmt='d')\n",
    "    ax.set_title(k,fontsize=8)"
   ]
  },
  {
   "cell_type": "markdown",
   "id": "84459M9n5Ee-",
   "metadata": {
    "id": "84459M9n5Ee-"
   },
   "source": [
    "* Decision Tree confusion matrix shows the highest values of True Positives and True Negatives"
   ]
  },
  {
   "cell_type": "markdown",
   "id": "5YwTftXDKSt5",
   "metadata": {
    "id": "5YwTftXDKSt5"
   },
   "source": [
    "# **G) CLASSIFICATION REPORT**"
   ]
  },
  {
   "cell_type": "markdown",
   "id": "b03bea77",
   "metadata": {
    "id": "b03bea77"
   },
   "source": [
    "CLASSIFICATION REPORT"
   ]
  },
  {
   "cell_type": "markdown",
   "id": "UaATbnTM5J-v",
   "metadata": {
    "id": "UaATbnTM5J-v"
   },
   "source": [
    "It is used to measure the quality of predictions from a classification algorithm\n",
    "* precision - higher precision means the algorithm returns more relevant results than irrelevant ones\n",
    "* recall - high recall means the algorithm returns most of the relevant results\n",
    "* F1-score - harmonic mean between precision and recall\n",
    "* support - the number of occurrences of the given class in your dataset showing whether it is well-balanced dataset\n",
    "* accuracy - ratio between the well classified samples (true positives and true negatives) \n",
    "\n",
    "* same values of macro average and weighted average indicates that the data is balanced"
   ]
  },
  {
   "cell_type": "code",
   "execution_count": null,
   "id": "eaf44234",
   "metadata": {
    "colab": {
     "base_uri": "https://localhost:8080/"
    },
    "id": "eaf44234",
    "outputId": "c93448bd-00c4-4e86-9ca0-ea1a0c4046d6"
   },
   "outputs": [
    {
     "name": "stdout",
     "output_type": "stream",
     "text": [
      "              precision    recall  f1-score   support\n",
      "\n",
      "         0.0       0.73      0.73      0.73      1841\n",
      "         1.0       0.73      0.74      0.73      1872\n",
      "\n",
      "    accuracy                           0.73      3713\n",
      "   macro avg       0.73      0.73      0.73      3713\n",
      "weighted avg       0.73      0.73      0.73      3713\n",
      "\n"
     ]
    }
   ],
   "source": [
    "from sklearn import metrics\n",
    "\n",
    "y_predLR = np.around(modelLR.predict(X_test))\n",
    "print (metrics.classification_report(y_test, y_predLR))"
   ]
  },
  {
   "cell_type": "code",
   "execution_count": null,
   "id": "8dbba69e",
   "metadata": {
    "colab": {
     "base_uri": "https://localhost:8080/"
    },
    "id": "8dbba69e",
    "outputId": "e2c46d71-8c5b-4506-efe6-2ec51b469d0d"
   },
   "outputs": [
    {
     "name": "stdout",
     "output_type": "stream",
     "text": [
      "              precision    recall  f1-score   support\n",
      "\n",
      "         0.0       0.72      0.74      0.73      1841\n",
      "         1.0       0.74      0.72      0.73      1872\n",
      "\n",
      "    accuracy                           0.73      3713\n",
      "   macro avg       0.73      0.73      0.73      3713\n",
      "weighted avg       0.73      0.73      0.73      3713\n",
      "\n"
     ]
    }
   ],
   "source": [
    "y_predNB = np.around(modelNB.predict(X_test))\n",
    "print (metrics.classification_report(y_test, y_predNB))"
   ]
  },
  {
   "cell_type": "code",
   "execution_count": null,
   "id": "07d004d5",
   "metadata": {
    "colab": {
     "base_uri": "https://localhost:8080/"
    },
    "id": "07d004d5",
    "outputId": "f7b3d21e-4eb8-4575-e08d-2137fa13c569"
   },
   "outputs": [
    {
     "name": "stdout",
     "output_type": "stream",
     "text": [
      "              precision    recall  f1-score   support\n",
      "\n",
      "         0.0       0.87      0.81      0.84      1841\n",
      "         1.0       0.83      0.88      0.85      1872\n",
      "\n",
      "    accuracy                           0.85      3713\n",
      "   macro avg       0.85      0.85      0.85      3713\n",
      "weighted avg       0.85      0.85      0.85      3713\n",
      "\n"
     ]
    }
   ],
   "source": [
    "y_predDT = np.around(modelDT.predict(X_test))\n",
    "print (metrics.classification_report(y_test, y_predDT))"
   ]
  },
  {
   "cell_type": "markdown",
   "id": "NCN_d5Ks6kUS",
   "metadata": {
    "id": "NCN_d5Ks6kUS"
   },
   "source": [
    "* Decision Tree has the highest precision, recall, f1-score, and accuracy percentage\n",
    "* Similar macro avg & weighted avg shows the data is balanced\n",
    "* DT with VIF is the best model overall in classifying the target class"
   ]
  },
  {
   "cell_type": "markdown",
   "id": "zDnFvpUZKcRX",
   "metadata": {
    "id": "zDnFvpUZKcRX"
   },
   "source": [
    "# **H) MODEL EXPLAINER AND VARIABLE IMPORTANCE**\n",
    "  #Logistic Regression Model Explainer\n",
    "  #Variable Importance for Logistic Regression\n",
    "  #Naive Bayes Model Explainer\n",
    "  #Variable Importance for Naive Bayes\n",
    "  #Decision Tree Model Explainer\n",
    "  #Variable Importance for Decision Tree"
   ]
  },
  {
   "cell_type": "markdown",
   "id": "dZRsAhfOVtuX",
   "metadata": {
    "id": "dZRsAhfOVtuX"
   },
   "source": [
    "MODEL EXPLAINER AND VARIABLE IMPORTANCE"
   ]
  },
  {
   "cell_type": "markdown",
   "id": "vK8du8d27xnk",
   "metadata": {
    "id": "vK8du8d27xnk"
   },
   "source": [
    "* This method is used to calculate the score for all input features of a prediction model\n",
    "* A higher score means the bigger the effect that the feature has on the prediction"
   ]
  },
  {
   "cell_type": "code",
   "execution_count": null,
   "id": "puiFTSHvN1xx",
   "metadata": {
    "colab": {
     "base_uri": "https://localhost:8080/"
    },
    "id": "puiFTSHvN1xx",
    "outputId": "76a2de34-9b1b-4f78-d7f5-cff21d913a8e"
   },
   "outputs": [
    {
     "name": "stdout",
     "output_type": "stream",
     "text": [
      "Preparation of a new explainer is initiated\n",
      "\n",
      "  -> data              : 12376 rows 16 cols\n",
      "  -> target variable   : Parameter 'y' was a pandas.Series. Converted to a numpy.ndarray.\n",
      "  -> target variable   : 12376 values\n",
      "  -> model_class       : sklearn.linear_model._logistic.LogisticRegression (default)\n",
      "  -> label             : Not specified, model's class short name will be used. (default)\n",
      "  -> predict function  : <function yhat_proba_default at 0x7f1fd9c30290> will be used (default)\n",
      "  -> predict function  : Accepts pandas.DataFrame and numpy.ndarray.\n",
      "  -> predicted values  : min = 0.00708, mean = 0.5, max = 0.982\n",
      "  -> model type        : classification will be used (default)\n",
      "  -> residual function : difference between y and yhat (default)\n",
      "  -> residuals         : min = -0.971, mean = -0.00015, max = 0.975\n",
      "  -> model_info        : package sklearn\n",
      "\n",
      "A new explainer has been created!\n"
     ]
    },
    {
     "name": "stderr",
     "output_type": "stream",
     "text": [
      "/usr/local/lib/python3.7/dist-packages/sklearn/base.py:451: UserWarning: X does not have valid feature names, but LogisticRegression was fitted with feature names\n",
      "  \"X does not have valid feature names, but\"\n"
     ]
    }
   ],
   "source": [
    "# Logistic Regression Model Explainer\n",
    "exp_LR = dx.Explainer(modelLR, X, y)"
   ]
  },
  {
   "cell_type": "code",
   "execution_count": null,
   "id": "vQBkG_qJN4EO",
   "metadata": {
    "colab": {
     "base_uri": "https://localhost:8080/",
     "height": 400
    },
    "id": "vQBkG_qJN4EO",
    "outputId": "189f5809-9b29-4b72-d51d-ce6e9a71f325"
   },
   "outputs": [
    {
     "data": {
      "text/html": [
       "<html>\n",
       "<head><meta charset=\"utf-8\" /></head>\n",
       "<body>\n",
       "    <div>            <script src=\"https://cdnjs.cloudflare.com/ajax/libs/mathjax/2.7.5/MathJax.js?config=TeX-AMS-MML_SVG\"></script><script type=\"text/javascript\">if (window.MathJax) {MathJax.Hub.Config({SVG: {font: \"STIX-Web\"}});}</script>                <script type=\"text/javascript\">window.PlotlyConfig = {MathJaxConfig: 'local'};</script>\n",
       "        <script src=\"https://cdn.plot.ly/plotly-2.8.3.min.js\"></script>                <div id=\"0a9c39ca-5f84-49df-ba36-9a1552226122\" class=\"plotly-graph-div\" style=\"height:383.0px; width:100%;\"></div>            <script type=\"text/javascript\">                                    window.PLOTLYENV=window.PLOTLYENV || {};                                    if (document.getElementById(\"0a9c39ca-5f84-49df-ba36-9a1552226122\")) {                    Plotly.newPlot(                        \"0a9c39ca-5f84-49df-ba36-9a1552226122\",                        [{\"base\":0.2026995912426698,\"hoverinfo\":\"text\",\"hoverlabel\":{\"bgcolor\":\"rgba(0,0,0,0.8)\"},\"hovertext\":[\"Model: LogisticRegression loss after<br>variable: disk_i_o_time is permuted: 0.279<br>Drop-out loss change: +0.077\",\"Model: LogisticRegression loss after<br>variable: disk_space_request is permuted: 0.253<br>Drop-out loss change: +0.051\",\"Model: LogisticRegression loss after<br>variable: cpu_request is permuted: 0.242<br>Drop-out loss change: +0.04\",\"Model: LogisticRegression loss after<br>variable: priority is permuted: 0.239<br>Drop-out loss change: +0.037\",\"Model: LogisticRegression loss after<br>variable: local_disk_space_usage is permuted: 0.234<br>Drop-out loss change: +0.031\",\"Model: LogisticRegression loss after<br>variable: timestamp_ is permuted: 0.231<br>Drop-out loss change: +0.028\",\"Model: LogisticRegression loss after<br>variable: maximum_cpu_rate is permuted: 0.22<br>Drop-out loss change: +0.017\",\"Model: LogisticRegression loss after<br>variable: memory_request is permuted: 0.219<br>Drop-out loss change: +0.017\",\"Model: LogisticRegression loss after<br>variable: cycles_per_instruction is permuted: 0.217<br>Drop-out loss change: +0.014\",\"Model: LogisticRegression loss after<br>variable: maximum_disk_i_o_time is permuted: 0.215<br>Drop-out loss change: +0.013\"],\"marker\":{\"color\":\"#46bac2\"},\"orientation\":\"h\",\"showlegend\":false,\"text\":[\"+0.077\",\"+0.051\",\"+0.04\",\"+0.037\",\"+0.031\",\"+0.028\",\"+0.017\",\"+0.017\",\"+0.014\",\"+0.013\"],\"textposition\":\"outside\",\"x\":[0.07658144013658721,0.05058133465632744,0.039517496713193434,0.0367161769282274,0.03145837192333659,0.028042230165151977,0.017022612444555996,0.016689570732449616,0.014189582711404636,0.012655412958648027],\"y\":[\"disk_i_o_time\",\"disk_space_request\",\"cpu_request\",\"priority\",\"local_disk_space_usage\",\"timestamp_\",\"maximum_cpu_rate\",\"memory_request\",\"cycles_per_instruction\",\"maximum_disk_i_o_time\"],\"type\":\"bar\",\"xaxis\":\"x\",\"yaxis\":\"y\"}],                        {\"template\":{\"data\":{\"scatter\":[{\"type\":\"scatter\"}]}},\"xaxis\":{\"anchor\":\"y\",\"domain\":[0.0,1.0],\"type\":\"linear\",\"gridwidth\":2,\"zeroline\":false,\"automargin\":true,\"ticks\":\"outside\",\"tickcolor\":\"white\",\"ticklen\":3,\"fixedrange\":true,\"range\":[0.19121237522218174,0.2907682473997451]},\"yaxis\":{\"anchor\":\"x\",\"domain\":[0.0,1.0],\"type\":\"category\",\"autorange\":\"reversed\",\"gridwidth\":2,\"automargin\":true,\"ticks\":\"outside\",\"tickcolor\":\"white\",\"ticklen\":10,\"fixedrange\":true},\"annotations\":[{\"font\":{\"size\":16},\"showarrow\":false,\"text\":\"LogisticRegression\",\"x\":0.5,\"xanchor\":\"center\",\"xref\":\"paper\",\"y\":1.0,\"yanchor\":\"bottom\",\"yref\":\"paper\"},{\"font\":{\"size\":16},\"showarrow\":false,\"text\":\"drop-out loss\",\"x\":0.5,\"xanchor\":\"center\",\"xref\":\"paper\",\"y\":0,\"yanchor\":\"top\",\"yref\":\"paper\",\"yshift\":-30}],\"shapes\":[{\"line\":{\"color\":\"#371ea3\",\"dash\":\"dot\",\"width\":1.5},\"type\":\"line\",\"x0\":0.2026995912426698,\"x1\":0.2026995912426698,\"xref\":\"x\",\"y0\":-1,\"y1\":10,\"yref\":\"y\"}],\"title\":{\"text\":\"Variable Importance\",\"x\":0.15},\"font\":{\"color\":\"#371ea3\"},\"margin\":{\"t\":78,\"b\":71,\"r\":30},\"height\":383.0},                        {\"displaylogo\": false, \"staticPlot\": false, \"toImageButtonOptions\": {\"height\": null, \"width\": null}, \"modeBarButtonsToRemove\": [\"sendDataToCloud\", \"lasso2d\", \"autoScale2d\", \"select2d\", \"zoom2d\", \"pan2d\", \"zoomIn2d\", \"zoomOut2d\", \"resetScale2d\", \"toggleSpikelines\", \"hoverCompareCartesian\", \"hoverClosestCartesian\"], \"responsive\": true}                    ).then(function(){\n",
       "                            \n",
       "var gd = document.getElementById('0a9c39ca-5f84-49df-ba36-9a1552226122');\n",
       "var x = new MutationObserver(function (mutations, observer) {{\n",
       "        var display = window.getComputedStyle(gd).display;\n",
       "        if (!display || display === 'none') {{\n",
       "            console.log([gd, 'removed!']);\n",
       "            Plotly.purge(gd);\n",
       "            observer.disconnect();\n",
       "        }}\n",
       "}});\n",
       "\n",
       "// Listen for the removal of the full notebook cells\n",
       "var notebookContainer = gd.closest('#notebook-container');\n",
       "if (notebookContainer) {{\n",
       "    x.observe(notebookContainer, {childList: true});\n",
       "}}\n",
       "\n",
       "// Listen for the clearing of the current output cell\n",
       "var outputEl = gd.closest('.output');\n",
       "if (outputEl) {{\n",
       "    x.observe(outputEl, {childList: true});\n",
       "}}\n",
       "\n",
       "                        })                };                            </script>        </div>\n",
       "</body>\n",
       "</html>"
      ]
     },
     "metadata": {},
     "output_type": "display_data"
    }
   ],
   "source": [
    "# Variable Importance for Logistic Regression\n",
    "viLR = exp_LR.model_parts()\n",
    "viLR.plot()"
   ]
  },
  {
   "cell_type": "markdown",
   "id": "qPydrIc49B8P",
   "metadata": {
    "id": "qPydrIc49B8P"
   },
   "source": [
    "The Top 5 features to have biggest effect on Logistic Regression model are:\n",
    "* disk_i_o_time\n",
    "* disk_space_request\n",
    "* cpu_request\n",
    "* priority\n",
    "* local_disk_space_usage"
   ]
  },
  {
   "cell_type": "code",
   "execution_count": null,
   "id": "sz_VugIHN6rX",
   "metadata": {
    "colab": {
     "base_uri": "https://localhost:8080/"
    },
    "id": "sz_VugIHN6rX",
    "outputId": "836498d1-397d-4fd3-c19f-0a1ab08d31d1"
   },
   "outputs": [
    {
     "name": "stdout",
     "output_type": "stream",
     "text": [
      "Preparation of a new explainer is initiated\n",
      "\n",
      "  -> data              : 12376 rows 16 cols\n",
      "  -> target variable   : Parameter 'y' was a pandas.Series. Converted to a numpy.ndarray.\n",
      "  -> target variable   : 12376 values\n",
      "  -> model_class       : sklearn.naive_bayes.GaussianNB (default)\n",
      "  -> label             : Not specified, model's class short name will be used. (default)\n",
      "  -> predict function  : <function yhat_proba_default at 0x7f1fd9c30290> will be used (default)\n",
      "  -> predict function  : Accepts pandas.DataFrame and numpy.ndarray.\n",
      "  -> predicted values  : min = 1.33e-05, mean = 0.474, max = 1.0\n",
      "  -> model type        : classification will be used (default)\n",
      "  -> residual function : difference between y and yhat (default)\n",
      "  -> residuals         : min = -1.0, mean = 0.026, max = 1.0\n",
      "  -> model_info        : package sklearn\n",
      "\n",
      "A new explainer has been created!\n"
     ]
    },
    {
     "name": "stderr",
     "output_type": "stream",
     "text": [
      "/usr/local/lib/python3.7/dist-packages/sklearn/base.py:451: UserWarning:\n",
      "\n",
      "X does not have valid feature names, but GaussianNB was fitted with feature names\n",
      "\n"
     ]
    }
   ],
   "source": [
    "# Naive Bayes Model Explainer\n",
    "exp_NB = dx.Explainer(modelNB, X, y)"
   ]
  },
  {
   "cell_type": "code",
   "execution_count": null,
   "id": "TI4KYvqrN8rR",
   "metadata": {
    "colab": {
     "base_uri": "https://localhost:8080/",
     "height": 400
    },
    "id": "TI4KYvqrN8rR",
    "outputId": "0d6845d4-3a5c-461b-e0cf-72c08561a1bb"
   },
   "outputs": [
    {
     "data": {
      "text/html": [
       "<html>\n",
       "<head><meta charset=\"utf-8\" /></head>\n",
       "<body>\n",
       "    <div>            <script src=\"https://cdnjs.cloudflare.com/ajax/libs/mathjax/2.7.5/MathJax.js?config=TeX-AMS-MML_SVG\"></script><script type=\"text/javascript\">if (window.MathJax) {MathJax.Hub.Config({SVG: {font: \"STIX-Web\"}});}</script>                <script type=\"text/javascript\">window.PlotlyConfig = {MathJaxConfig: 'local'};</script>\n",
       "        <script src=\"https://cdn.plot.ly/plotly-2.8.3.min.js\"></script>                <div id=\"d721bd30-5f8f-4b9f-b3de-b46d867f7d66\" class=\"plotly-graph-div\" style=\"height:383.0px; width:100%;\"></div>            <script type=\"text/javascript\">                                    window.PLOTLYENV=window.PLOTLYENV || {};                                    if (document.getElementById(\"d721bd30-5f8f-4b9f-b3de-b46d867f7d66\")) {                    Plotly.newPlot(                        \"d721bd30-5f8f-4b9f-b3de-b46d867f7d66\",                        [{\"base\":0.19911112925244395,\"hoverinfo\":\"text\",\"hoverlabel\":{\"bgcolor\":\"rgba(0,0,0,0.8)\"},\"hovertext\":[\"Model: GaussianNB loss after<br>variable: priority is permuted: 0.253<br>Drop-out loss change: +0.054\",\"Model: GaussianNB loss after<br>variable: different_machine_restriction is permuted: 0.251<br>Drop-out loss change: +0.052\",\"Model: GaussianNB loss after<br>variable: disk_i_o_time is permuted: 0.237<br>Drop-out loss change: +0.038\",\"Model: GaussianNB loss after<br>variable: cycles_per_instruction is permuted: 0.216<br>Drop-out loss change: +0.016\",\"Model: GaussianNB loss after<br>variable: timestamp_ is permuted: 0.214<br>Drop-out loss change: +0.015\",\"Model: GaussianNB loss after<br>variable: cpu_request is permuted: 0.214<br>Drop-out loss change: +0.015\",\"Model: GaussianNB loss after<br>variable: disk_space_request is permuted: 0.208<br>Drop-out loss change: +0.009\",\"Model: GaussianNB loss after<br>variable: memory_request is permuted: 0.205<br>Drop-out loss change: +0.006\",\"Model: GaussianNB loss after<br>variable: maximum_cpu_rate is permuted: 0.202<br>Drop-out loss change: +0.003\",\"Model: GaussianNB loss after<br>variable: canonical_memory_usage is permuted: 0.202<br>Drop-out loss change: +0.003\"],\"marker\":{\"color\":\"#46bac2\"},\"orientation\":\"h\",\"showlegend\":false,\"text\":[\"+0.054\",\"+0.052\",\"+0.038\",\"+0.016\",\"+0.015\",\"+0.015\",\"+0.009\",\"+0.006\",\"+0.003\",\"+0.003\"],\"textposition\":\"outside\",\"x\":[0.05363501460863923,0.05198342588127619,0.03809506192754866,0.01646347354287417,0.015212388783562625,0.014756437906109532,0.008660769376741706,0.005670824005603758,0.0032461491956250477,0.0030044644805358456],\"y\":[\"priority\",\"different_machine_restriction\",\"disk_i_o_time\",\"cycles_per_instruction\",\"timestamp_\",\"cpu_request\",\"disk_space_request\",\"memory_request\",\"maximum_cpu_rate\",\"canonical_memory_usage\"],\"type\":\"bar\",\"xaxis\":\"x\",\"yaxis\":\"y\"}],                        {\"template\":{\"data\":{\"scatter\":[{\"type\":\"scatter\"}]}},\"xaxis\":{\"anchor\":\"y\",\"domain\":[0.0,1.0],\"type\":\"linear\",\"gridwidth\":2,\"zeroline\":false,\"automargin\":true,\"ticks\":\"outside\",\"tickcolor\":\"white\",\"ticklen\":3,\"fixedrange\":true,\"range\":[0.19106587706114808,0.26079139605237905]},\"yaxis\":{\"anchor\":\"x\",\"domain\":[0.0,1.0],\"type\":\"category\",\"autorange\":\"reversed\",\"gridwidth\":2,\"automargin\":true,\"ticks\":\"outside\",\"tickcolor\":\"white\",\"ticklen\":10,\"fixedrange\":true},\"annotations\":[{\"font\":{\"size\":16},\"showarrow\":false,\"text\":\"GaussianNB\",\"x\":0.5,\"xanchor\":\"center\",\"xref\":\"paper\",\"y\":1.0,\"yanchor\":\"bottom\",\"yref\":\"paper\"},{\"font\":{\"size\":16},\"showarrow\":false,\"text\":\"drop-out loss\",\"x\":0.5,\"xanchor\":\"center\",\"xref\":\"paper\",\"y\":0,\"yanchor\":\"top\",\"yref\":\"paper\",\"yshift\":-30}],\"shapes\":[{\"line\":{\"color\":\"#371ea3\",\"dash\":\"dot\",\"width\":1.5},\"type\":\"line\",\"x0\":0.19911112925244395,\"x1\":0.19911112925244395,\"xref\":\"x\",\"y0\":-1,\"y1\":10,\"yref\":\"y\"}],\"title\":{\"text\":\"Variable Importance\",\"x\":0.15},\"font\":{\"color\":\"#371ea3\"},\"margin\":{\"t\":78,\"b\":71,\"r\":30},\"height\":383.0},                        {\"displaylogo\": false, \"staticPlot\": false, \"toImageButtonOptions\": {\"height\": null, \"width\": null}, \"modeBarButtonsToRemove\": [\"sendDataToCloud\", \"lasso2d\", \"autoScale2d\", \"select2d\", \"zoom2d\", \"pan2d\", \"zoomIn2d\", \"zoomOut2d\", \"resetScale2d\", \"toggleSpikelines\", \"hoverCompareCartesian\", \"hoverClosestCartesian\"], \"responsive\": true}                    ).then(function(){\n",
       "                            \n",
       "var gd = document.getElementById('d721bd30-5f8f-4b9f-b3de-b46d867f7d66');\n",
       "var x = new MutationObserver(function (mutations, observer) {{\n",
       "        var display = window.getComputedStyle(gd).display;\n",
       "        if (!display || display === 'none') {{\n",
       "            console.log([gd, 'removed!']);\n",
       "            Plotly.purge(gd);\n",
       "            observer.disconnect();\n",
       "        }}\n",
       "}});\n",
       "\n",
       "// Listen for the removal of the full notebook cells\n",
       "var notebookContainer = gd.closest('#notebook-container');\n",
       "if (notebookContainer) {{\n",
       "    x.observe(notebookContainer, {childList: true});\n",
       "}}\n",
       "\n",
       "// Listen for the clearing of the current output cell\n",
       "var outputEl = gd.closest('.output');\n",
       "if (outputEl) {{\n",
       "    x.observe(outputEl, {childList: true});\n",
       "}}\n",
       "\n",
       "                        })                };                            </script>        </div>\n",
       "</body>\n",
       "</html>"
      ]
     },
     "metadata": {},
     "output_type": "display_data"
    }
   ],
   "source": [
    "# Variable Importance for Naive Bayes\n",
    "viNB = exp_NB.model_parts()\n",
    "viNB.plot()"
   ]
  },
  {
   "cell_type": "markdown",
   "id": "1ACoA4099hKJ",
   "metadata": {
    "id": "1ACoA4099hKJ"
   },
   "source": [
    "The Top 5 features to have biggest effect on Naive Bayes model are:\n",
    "* priority\n",
    "* different_machine_restriction\n",
    "* disk_i_o_time\n",
    "* cycles_per_instruction\n",
    "* timestamp_"
   ]
  },
  {
   "cell_type": "code",
   "execution_count": null,
   "id": "S0Jk9bucN-rE",
   "metadata": {
    "colab": {
     "base_uri": "https://localhost:8080/"
    },
    "id": "S0Jk9bucN-rE",
    "outputId": "546f81f7-2938-4040-b771-8ef5f4a2dddc"
   },
   "outputs": [
    {
     "name": "stdout",
     "output_type": "stream",
     "text": [
      "Preparation of a new explainer is initiated\n",
      "\n",
      "  -> data              : 12376 rows 16 cols\n",
      "  -> target variable   : Parameter 'y' was a pandas.Series. Converted to a numpy.ndarray.\n",
      "  -> target variable   : 12376 values\n",
      "  -> model_class       : sklearn.tree._classes.DecisionTreeClassifier (default)\n",
      "  -> label             : Not specified, model's class short name will be used. (default)\n",
      "  -> predict function  : <function yhat_proba_default at 0x7f1fd9c30290> will be used (default)\n",
      "  -> predict function  : Accepts pandas.DataFrame and numpy.ndarray.\n",
      "  -> predicted values  : min = 0.0, mean = 0.499, max = 1.0\n",
      "  -> model type        : classification will be used (default)\n",
      "  -> residual function : difference between y and yhat (default)\n",
      "  -> residuals         : min = -1.0, mean = 0.000503, max = 1.0\n",
      "  -> model_info        : package sklearn\n",
      "\n",
      "A new explainer has been created!\n"
     ]
    },
    {
     "name": "stderr",
     "output_type": "stream",
     "text": [
      "/usr/local/lib/python3.7/dist-packages/sklearn/base.py:451: UserWarning:\n",
      "\n",
      "X does not have valid feature names, but DecisionTreeClassifier was fitted with feature names\n",
      "\n"
     ]
    }
   ],
   "source": [
    "# Decision Tree Model Explainer\n",
    "exp_DT = dx.Explainer(modelDT, X, y)"
   ]
  },
  {
   "cell_type": "code",
   "execution_count": null,
   "id": "qLJShYTgOCn2",
   "metadata": {
    "colab": {
     "base_uri": "https://localhost:8080/",
     "height": 400
    },
    "id": "qLJShYTgOCn2",
    "outputId": "73611834-098d-4696-c824-4c1e3130460e"
   },
   "outputs": [
    {
     "data": {
      "text/html": [
       "<html>\n",
       "<head><meta charset=\"utf-8\" /></head>\n",
       "<body>\n",
       "    <div>            <script src=\"https://cdnjs.cloudflare.com/ajax/libs/mathjax/2.7.5/MathJax.js?config=TeX-AMS-MML_SVG\"></script><script type=\"text/javascript\">if (window.MathJax) {MathJax.Hub.Config({SVG: {font: \"STIX-Web\"}});}</script>                <script type=\"text/javascript\">window.PlotlyConfig = {MathJaxConfig: 'local'};</script>\n",
       "        <script src=\"https://cdn.plot.ly/plotly-2.8.3.min.js\"></script>                <div id=\"6d088c42-b4bb-4ce8-bd2d-6bc7f40b5778\" class=\"plotly-graph-div\" style=\"height:383.0px; width:100%;\"></div>            <script type=\"text/javascript\">                                    window.PLOTLYENV=window.PLOTLYENV || {};                                    if (document.getElementById(\"6d088c42-b4bb-4ce8-bd2d-6bc7f40b5778\")) {                    Plotly.newPlot(                        \"6d088c42-b4bb-4ce8-bd2d-6bc7f40b5778\",                        [{\"base\":0.05930988327481009,\"hoverinfo\":\"text\",\"hoverlabel\":{\"bgcolor\":\"rgba(0,0,0,0.8)\"},\"hovertext\":[\"Model: DecisionTreeClassifier loss after<br>variable: priority is permuted: 0.326<br>Drop-out loss change: +0.267\",\"Model: DecisionTreeClassifier loss after<br>variable: cpu_request is permuted: 0.182<br>Drop-out loss change: +0.123\",\"Model: DecisionTreeClassifier loss after<br>variable: local_disk_space_usage is permuted: 0.119<br>Drop-out loss change: +0.06\",\"Model: DecisionTreeClassifier loss after<br>variable: task_index is permuted: 0.113<br>Drop-out loss change: +0.053\",\"Model: DecisionTreeClassifier loss after<br>variable: canonical_memory_usage is permuted: 0.099<br>Drop-out loss change: +0.039\",\"Model: DecisionTreeClassifier loss after<br>variable: maximum_cpu_rate is permuted: 0.099<br>Drop-out loss change: +0.039\",\"Model: DecisionTreeClassifier loss after<br>variable: memory_request is permuted: 0.095<br>Drop-out loss change: +0.036\",\"Model: DecisionTreeClassifier loss after<br>variable: cpu_rate is permuted: 0.09<br>Drop-out loss change: +0.031\",\"Model: DecisionTreeClassifier loss after<br>variable: different_machine_restriction is permuted: 0.08<br>Drop-out loss change: +0.02\",\"Model: DecisionTreeClassifier loss after<br>variable: timestamp_ is permuted: 0.079<br>Drop-out loss change: +0.02\"],\"marker\":{\"color\":\"#46bac2\"},\"orientation\":\"h\",\"showlegend\":false,\"text\":[\"+0.267\",\"+0.123\",\"+0.06\",\"+0.053\",\"+0.039\",\"+0.039\",\"+0.036\",\"+0.031\",\"+0.02\",\"+0.02\"],\"textposition\":\"outside\",\"x\":[0.26673784624386154,0.1230282600227264,0.05959853916479819,0.0533333112378375,0.03941489134503085,0.03933314047153883,0.03578188540699218,0.03065502127788749,0.020477772382291433,0.019696713623533264],\"y\":[\"priority\",\"cpu_request\",\"local_disk_space_usage\",\"task_index\",\"canonical_memory_usage\",\"maximum_cpu_rate\",\"memory_request\",\"cpu_rate\",\"different_machine_restriction\",\"timestamp_\"],\"type\":\"bar\",\"xaxis\":\"x\",\"yaxis\":\"y\"}],                        {\"template\":{\"data\":{\"scatter\":[{\"type\":\"scatter\"}]}},\"xaxis\":{\"anchor\":\"y\",\"domain\":[0.0,1.0],\"type\":\"linear\",\"gridwidth\":2,\"zeroline\":false,\"automargin\":true,\"ticks\":\"outside\",\"tickcolor\":\"white\",\"ticklen\":3,\"fixedrange\":true,\"range\":[0.01929920633823086,0.36605840645525084]},\"yaxis\":{\"anchor\":\"x\",\"domain\":[0.0,1.0],\"type\":\"category\",\"autorange\":\"reversed\",\"gridwidth\":2,\"automargin\":true,\"ticks\":\"outside\",\"tickcolor\":\"white\",\"ticklen\":10,\"fixedrange\":true},\"annotations\":[{\"font\":{\"size\":16},\"showarrow\":false,\"text\":\"DecisionTreeClassifier\",\"x\":0.5,\"xanchor\":\"center\",\"xref\":\"paper\",\"y\":1.0,\"yanchor\":\"bottom\",\"yref\":\"paper\"},{\"font\":{\"size\":16},\"showarrow\":false,\"text\":\"drop-out loss\",\"x\":0.5,\"xanchor\":\"center\",\"xref\":\"paper\",\"y\":0,\"yanchor\":\"top\",\"yref\":\"paper\",\"yshift\":-30}],\"shapes\":[{\"line\":{\"color\":\"#371ea3\",\"dash\":\"dot\",\"width\":1.5},\"type\":\"line\",\"x0\":0.05930988327481009,\"x1\":0.05930988327481009,\"xref\":\"x\",\"y0\":-1,\"y1\":10,\"yref\":\"y\"}],\"title\":{\"text\":\"Variable Importance\",\"x\":0.15},\"font\":{\"color\":\"#371ea3\"},\"margin\":{\"t\":78,\"b\":71,\"r\":30},\"height\":383.0},                        {\"displaylogo\": false, \"staticPlot\": false, \"toImageButtonOptions\": {\"height\": null, \"width\": null}, \"modeBarButtonsToRemove\": [\"sendDataToCloud\", \"lasso2d\", \"autoScale2d\", \"select2d\", \"zoom2d\", \"pan2d\", \"zoomIn2d\", \"zoomOut2d\", \"resetScale2d\", \"toggleSpikelines\", \"hoverCompareCartesian\", \"hoverClosestCartesian\"], \"responsive\": true}                    ).then(function(){\n",
       "                            \n",
       "var gd = document.getElementById('6d088c42-b4bb-4ce8-bd2d-6bc7f40b5778');\n",
       "var x = new MutationObserver(function (mutations, observer) {{\n",
       "        var display = window.getComputedStyle(gd).display;\n",
       "        if (!display || display === 'none') {{\n",
       "            console.log([gd, 'removed!']);\n",
       "            Plotly.purge(gd);\n",
       "            observer.disconnect();\n",
       "        }}\n",
       "}});\n",
       "\n",
       "// Listen for the removal of the full notebook cells\n",
       "var notebookContainer = gd.closest('#notebook-container');\n",
       "if (notebookContainer) {{\n",
       "    x.observe(notebookContainer, {childList: true});\n",
       "}}\n",
       "\n",
       "// Listen for the clearing of the current output cell\n",
       "var outputEl = gd.closest('.output');\n",
       "if (outputEl) {{\n",
       "    x.observe(outputEl, {childList: true});\n",
       "}}\n",
       "\n",
       "                        })                };                            </script>        </div>\n",
       "</body>\n",
       "</html>"
      ]
     },
     "metadata": {},
     "output_type": "display_data"
    }
   ],
   "source": [
    "# Variable Importance for Decision Tree\n",
    "viDT = exp_DT.model_parts()\n",
    "viDT.plot()"
   ]
  },
  {
   "cell_type": "markdown",
   "id": "x0xCkyWd93BQ",
   "metadata": {
    "id": "x0xCkyWd93BQ"
   },
   "source": [
    "The Top 5 features to have biggest effect on Decision Tree model are:\n",
    "* priority\n",
    "* cpu_request\n",
    "* local_disk_space_usage\n",
    "* task_index\n",
    "* canonical_memory_usage"
   ]
  }
 ],
 "metadata": {
  "colab": {
   "collapsed_sections": [],
   "name": "Group_Project_DSC761_FeatureEngineering_VIF_310122_outlier_treated.ipynb",
   "provenance": [],
   "toc_visible": true
  },
  "kernelspec": {
   "display_name": "Python 3",
   "language": "python",
   "name": "python3"
  },
  "language_info": {
   "codemirror_mode": {
    "name": "ipython",
    "version": 3
   },
   "file_extension": ".py",
   "mimetype": "text/x-python",
   "name": "python",
   "nbconvert_exporter": "python",
   "pygments_lexer": "ipython3",
   "version": "3.8.8"
  }
 },
 "nbformat": 4,
 "nbformat_minor": 5
}
